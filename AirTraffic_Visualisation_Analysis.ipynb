{
 "cells": [
  {
   "cell_type": "code",
   "execution_count": 2,
   "metadata": {
    "collapsed": true
   },
   "outputs": [],
   "source": [
    "import pandas as pd\n",
    "import matplotlib as mp\n",
    "import matplotlib.pyplot as plt\n",
    "import numpy as np\n",
    "import pylab\n",
    "% matplotlib inline"
   ]
  },
  {
   "cell_type": "code",
   "execution_count": 3,
   "metadata": {
    "collapsed": true
   },
   "outputs": [],
   "source": [
    "import plotly.graph_objs as go\n",
    "import plotly.figure_factory as ff\n",
    "mapbox_access_token = 'pk.eyJ1IjoiaGFyaWJhc2thciIsImEiOiJjamFrODR4MTAyZ25mMzJvMnhyamZzenNjIn0.bUxQg8Vvn3HshfSTwuRSPA'\n",
    "from plotly.graph_objs import *\n",
    "import plotly.plotly as py"
   ]
  },
  {
   "cell_type": "code",
   "execution_count": 4,
   "metadata": {},
   "outputs": [
    {
     "data": {
      "text/html": [
       "<div>\n",
       "<style>\n",
       "    .dataframe thead tr:only-child th {\n",
       "        text-align: right;\n",
       "    }\n",
       "\n",
       "    .dataframe thead th {\n",
       "        text-align: left;\n",
       "    }\n",
       "\n",
       "    .dataframe tbody tr th {\n",
       "        vertical-align: top;\n",
       "    }\n",
       "</style>\n",
       "<table border=\"1\" class=\"dataframe\">\n",
       "  <thead>\n",
       "    <tr style=\"text-align: right;\">\n",
       "      <th></th>\n",
       "      <th>icao24</th>\n",
       "      <th>callsign</th>\n",
       "      <th>origincountry</th>\n",
       "      <th>timeposition</th>\n",
       "      <th>lastcontact</th>\n",
       "      <th>longitude</th>\n",
       "      <th>latitude</th>\n",
       "      <th>geo_altitude</th>\n",
       "      <th>on_ground</th>\n",
       "      <th>speed</th>\n",
       "      <th>heading</th>\n",
       "      <th>vertical_rate</th>\n",
       "      <th>baro_altitude</th>\n",
       "      <th>spi</th>\n",
       "      <th>position_source</th>\n",
       "      <th>Unnamed: 15</th>\n",
       "      <th>pos_date</th>\n",
       "      <th>pos_tm</th>\n",
       "    </tr>\n",
       "  </thead>\n",
       "  <tbody>\n",
       "    <tr>\n",
       "      <th>0</th>\n",
       "      <td>a808c4</td>\n",
       "      <td>NaN</td>\n",
       "      <td>United States</td>\n",
       "      <td>1512163213</td>\n",
       "      <td>1512163217</td>\n",
       "      <td>-78.3118</td>\n",
       "      <td>35.1982</td>\n",
       "      <td>10911.84</td>\n",
       "      <td>False</td>\n",
       "      <td>219.54</td>\n",
       "      <td>211.98</td>\n",
       "      <td>0.00</td>\n",
       "      <td>10942.32</td>\n",
       "      <td>False</td>\n",
       "      <td>0</td>\n",
       "      <td>NaN</td>\n",
       "      <td>01-12-2017</td>\n",
       "      <td>21:20:13</td>\n",
       "    </tr>\n",
       "    <tr>\n",
       "      <th>1</th>\n",
       "      <td>a8aac8</td>\n",
       "      <td>DAL2049</td>\n",
       "      <td>United States</td>\n",
       "      <td>1512163219</td>\n",
       "      <td>1512163219</td>\n",
       "      <td>-108.6155</td>\n",
       "      <td>37.7833</td>\n",
       "      <td>11277.60</td>\n",
       "      <td>False</td>\n",
       "      <td>269.92</td>\n",
       "      <td>95.80</td>\n",
       "      <td>-0.33</td>\n",
       "      <td>11483.34</td>\n",
       "      <td>False</td>\n",
       "      <td>0</td>\n",
       "      <td>NaN</td>\n",
       "      <td>01-12-2017</td>\n",
       "      <td>21:20:19</td>\n",
       "    </tr>\n",
       "    <tr>\n",
       "      <th>2</th>\n",
       "      <td>a37f17</td>\n",
       "      <td>N324VR</td>\n",
       "      <td>United States</td>\n",
       "      <td>1512163213</td>\n",
       "      <td>1512163216</td>\n",
       "      <td>-85.8126</td>\n",
       "      <td>39.4924</td>\n",
       "      <td>822.96</td>\n",
       "      <td>False</td>\n",
       "      <td>68.23</td>\n",
       "      <td>336.91</td>\n",
       "      <td>-3.58</td>\n",
       "      <td>891.54</td>\n",
       "      <td>False</td>\n",
       "      <td>0</td>\n",
       "      <td>NaN</td>\n",
       "      <td>01-12-2017</td>\n",
       "      <td>21:20:13</td>\n",
       "    </tr>\n",
       "    <tr>\n",
       "      <th>3</th>\n",
       "      <td>aa56da</td>\n",
       "      <td>UAL1199</td>\n",
       "      <td>United States</td>\n",
       "      <td>1512163219</td>\n",
       "      <td>1512163219</td>\n",
       "      <td>-95.2804</td>\n",
       "      <td>42.1278</td>\n",
       "      <td>11277.60</td>\n",
       "      <td>False</td>\n",
       "      <td>266.79</td>\n",
       "      <td>79.56</td>\n",
       "      <td>0.00</td>\n",
       "      <td>11338.56</td>\n",
       "      <td>False</td>\n",
       "      <td>0</td>\n",
       "      <td>NaN</td>\n",
       "      <td>01-12-2017</td>\n",
       "      <td>21:20:19</td>\n",
       "    </tr>\n",
       "    <tr>\n",
       "      <th>4</th>\n",
       "      <td>89906d</td>\n",
       "      <td>EVA262</td>\n",
       "      <td>Taiwan</td>\n",
       "      <td>1512163220</td>\n",
       "      <td>1512163220</td>\n",
       "      <td>120.6871</td>\n",
       "      <td>24.0946</td>\n",
       "      <td>5806.44</td>\n",
       "      <td>False</td>\n",
       "      <td>211.53</td>\n",
       "      <td>20.95</td>\n",
       "      <td>-22.43</td>\n",
       "      <td>6149.34</td>\n",
       "      <td>False</td>\n",
       "      <td>0</td>\n",
       "      <td>NaN</td>\n",
       "      <td>01-12-2017</td>\n",
       "      <td>21:20:20</td>\n",
       "    </tr>\n",
       "  </tbody>\n",
       "</table>\n",
       "</div>"
      ],
      "text/plain": [
       "   icao24  callsign  origincountry  timeposition  lastcontact  longitude  \\\n",
       "0  a808c4       NaN  United States    1512163213   1512163217   -78.3118   \n",
       "1  a8aac8  DAL2049   United States    1512163219   1512163219  -108.6155   \n",
       "2  a37f17  N324VR    United States    1512163213   1512163216   -85.8126   \n",
       "3  aa56da  UAL1199   United States    1512163219   1512163219   -95.2804   \n",
       "4  89906d  EVA262           Taiwan    1512163220   1512163220   120.6871   \n",
       "\n",
       "   latitude  geo_altitude  on_ground   speed  heading  vertical_rate  \\\n",
       "0   35.1982      10911.84      False  219.54   211.98           0.00   \n",
       "1   37.7833      11277.60      False  269.92    95.80          -0.33   \n",
       "2   39.4924        822.96      False   68.23   336.91          -3.58   \n",
       "3   42.1278      11277.60      False  266.79    79.56           0.00   \n",
       "4   24.0946       5806.44      False  211.53    20.95         -22.43   \n",
       "\n",
       "   baro_altitude    spi  position_source  Unnamed: 15    pos_date    pos_tm  \n",
       "0       10942.32  False                0          NaN  01-12-2017  21:20:13  \n",
       "1       11483.34  False                0          NaN  01-12-2017  21:20:19  \n",
       "2         891.54  False                0          NaN  01-12-2017  21:20:13  \n",
       "3       11338.56  False                0          NaN  01-12-2017  21:20:19  \n",
       "4        6149.34  False                0          NaN  01-12-2017  21:20:20  "
      ]
     },
     "execution_count": 4,
     "metadata": {},
     "output_type": "execute_result"
    }
   ],
   "source": [
    "adf = pd.read_csv('C:\\Users\\HARI BASKAR\\Desktop\\Liveairtraffic Cln.csv')\n",
    "adf.head()"
   ]
  },
  {
   "cell_type": "code",
   "execution_count": 5,
   "metadata": {
    "collapsed": true
   },
   "outputs": [],
   "source": [
    "lx = adf['origincountry']\n",
    "ly1= adf['geo_altitude']\n",
    "ly2= adf['speed']"
   ]
  },
  {
   "cell_type": "code",
   "execution_count": 6,
   "metadata": {
    "collapsed": true
   },
   "outputs": [],
   "source": [
    "trace0 = go.Scatter(\n",
    "    x = lx,\n",
    "    y = ly1,\n",
    "    name = 'Altitude',\n",
    "    mode = 'markers',\n",
    "    marker=dict(\n",
    "        size='10',\n",
    "        color = ly1, #set color equal to a variable\n",
    "        colorscale='Viridis',\n",
    "        showscale=True\n",
    "    )\n",
    ")"
   ]
  },
  {
   "cell_type": "code",
   "execution_count": 7,
   "metadata": {
    "collapsed": true
   },
   "outputs": [],
   "source": [
    "trace1 = go.Scatter(\n",
    "    x = lx,\n",
    "    y = ly2,\n",
    "    name = 'Speed',\n",
    "    mode = 'markers',\n",
    "    marker=dict(\n",
    "        size='10',\n",
    "        color = ly2, #set color equal to a variable\n",
    "        colorscale='Viridis',\n",
    "        showscale=True\n",
    "    )\n",
    ")"
   ]
  },
  {
   "cell_type": "code",
   "execution_count": 8,
   "metadata": {
    "collapsed": true
   },
   "outputs": [],
   "source": [
    "data = [trace1]\n",
    "layout = dict(title = 'Average High and Low Temperatures in New York',\n",
    "              xaxis = dict(title = 'Origin Countries'),\n",
    "              yaxis = dict(title = 'A/S'),\n",
    "              )"
   ]
  },
  {
   "cell_type": "code",
   "execution_count": 9,
   "metadata": {},
   "outputs": [],
   "source": [
    "fig = dict(data=data, layout=layout)\n",
    "#py.iplot(fig, filename='styled-line')"
   ]
  },
  {
   "cell_type": "code",
   "execution_count": 306,
   "metadata": {},
   "outputs": [
    {
     "data": {
      "text/html": [
       "<div>\n",
       "<style>\n",
       "    .dataframe thead tr:only-child th {\n",
       "        text-align: right;\n",
       "    }\n",
       "\n",
       "    .dataframe thead th {\n",
       "        text-align: left;\n",
       "    }\n",
       "\n",
       "    .dataframe tbody tr th {\n",
       "        vertical-align: top;\n",
       "    }\n",
       "</style>\n",
       "<table border=\"1\" class=\"dataframe\">\n",
       "  <thead>\n",
       "    <tr style=\"text-align: right;\">\n",
       "      <th></th>\n",
       "      <th>on_ground</th>\n",
       "      <th>origincountry</th>\n",
       "      <th>0</th>\n",
       "    </tr>\n",
       "  </thead>\n",
       "  <tbody>\n",
       "    <tr>\n",
       "      <th>84</th>\n",
       "      <td>True</td>\n",
       "      <td>Australia</td>\n",
       "      <td>3</td>\n",
       "    </tr>\n",
       "    <tr>\n",
       "      <th>85</th>\n",
       "      <td>True</td>\n",
       "      <td>Austria</td>\n",
       "      <td>2</td>\n",
       "    </tr>\n",
       "    <tr>\n",
       "      <th>87</th>\n",
       "      <td>True</td>\n",
       "      <td>Canada</td>\n",
       "      <td>4</td>\n",
       "    </tr>\n",
       "    <tr>\n",
       "      <th>91</th>\n",
       "      <td>True</td>\n",
       "      <td>Germany</td>\n",
       "      <td>16</td>\n",
       "    </tr>\n",
       "    <tr>\n",
       "      <th>98</th>\n",
       "      <td>True</td>\n",
       "      <td>United Kingdom</td>\n",
       "      <td>2</td>\n",
       "    </tr>\n",
       "  </tbody>\n",
       "</table>\n",
       "</div>"
      ],
      "text/plain": [
       "    on_ground   origincountry   0\n",
       "84       True       Australia   3\n",
       "85       True         Austria   2\n",
       "87       True          Canada   4\n",
       "91       True         Germany  16\n",
       "98       True  United Kingdom   2"
      ]
     },
     "execution_count": 306,
     "metadata": {},
     "output_type": "execute_result"
    }
   ],
   "source": [
    "ongc = adf.groupby([adf['on_ground'],adf['origincountry']])\n",
    "gr = (ongc.size()).reset_index()\n",
    "grdf = gr[['on_ground','origincountry',0]]\n",
    "df_filtered1 = grdf[(grdf['on_ground'] == False) & ((grdf['origincountry'] == 'Australia') |(grdf['origincountry'] == 'Austria') |(grdf['origincountry'] == 'Canada') | (grdf['origincountry'] == 'United Kingdom') | (grdf['origincountry'] == 'Germany'))]\n",
    "#df_filtered.head\n",
    "df_filtered2 = grdf[(grdf['on_ground'] == True) & ((grdf['origincountry'] == 'Australia') |(grdf['origincountry'] == 'Austria')| (grdf['origincountry'] == 'Canada') | (grdf['origincountry'] == 'United Kingdom') | (grdf['origincountry'] == 'Germany'))]\n",
    "df_filtered2"
   ]
  },
  {
   "cell_type": "code",
   "execution_count": 307,
   "metadata": {},
   "outputs": [],
   "source": [
    "trace1 = go.Bar(\n",
    "    x=df_filtered1['origincountry'],\n",
    "    y=df_filtered1[0],\n",
    "    name='Aircrafts on Sky',\n",
    "    marker = dict(color='rgb(158,202,225)')\n",
    ")"
   ]
  },
  {
   "cell_type": "code",
   "execution_count": 308,
   "metadata": {},
   "outputs": [],
   "source": [
    "trace2 = go.Bar(\n",
    "    x=df_filtered2['origincountry'],\n",
    "    y=df_filtered2[0],\n",
    "    name='Aircrafts on Ground',\n",
    "    marker = dict(color='rgb(49,163,84)') \n",
    ")"
   ]
  },
  {
   "cell_type": "code",
   "execution_count": 309,
   "metadata": {},
   "outputs": [],
   "source": [
    "data = [trace2, trace1]"
   ]
  },
  {
   "cell_type": "code",
   "execution_count": 310,
   "metadata": {},
   "outputs": [
    {
     "data": {
      "text/html": [
       "<iframe id=\"igraph\" scrolling=\"no\" style=\"border:none;\" seamless=\"seamless\" src=\"https://plot.ly/~haribas/84.embed\" height=\"525px\" width=\"100%\"></iframe>"
      ],
      "text/plain": [
       "<plotly.tools.PlotlyDisplay object>"
      ]
     },
     "execution_count": 310,
     "metadata": {},
     "output_type": "execute_result"
    }
   ],
   "source": [
    "layout = go.Layout(\n",
    "    barmode='stack', title = 'Aircraft Flight Status'\n",
    ")\n",
    "fig = go.Figure(data=data, layout=layout)\n",
    "py.iplot(fig, filename='stacked-bar')"
   ]
  },
  {
   "cell_type": "code",
   "execution_count": 303,
   "metadata": {
    "scrolled": true
   },
   "outputs": [],
   "source": [
    "tvgp = adf.groupby([adf['origincountry']])\n",
    "tvs = (tvgp.size()).reset_index()\n",
    "tvssr = tvs.sort_values(0, ascending=[False])\n",
    "findf = tvssr.head(8)"
   ]
  },
  {
   "cell_type": "code",
   "execution_count": 304,
   "metadata": {},
   "outputs": [],
   "source": [
    "data = [go.Bar(\n",
    "            x=findf[0],\n",
    "            y=findf['origincountry'],\n",
    "            orientation = 'h',\n",
    "            marker = dict(color='rgb(102,194,164)')\n",
    ")]"
   ]
  },
  {
   "cell_type": "code",
   "execution_count": 305,
   "metadata": {},
   "outputs": [
    {
     "data": {
      "text/html": [
       "<iframe id=\"igraph\" scrolling=\"no\" style=\"border:none;\" seamless=\"seamless\" src=\"https://plot.ly/~haribas/88.embed\" height=\"525px\" width=\"100%\"></iframe>"
      ],
      "text/plain": [
       "<plotly.tools.PlotlyDisplay object>"
      ]
     },
     "execution_count": 305,
     "metadata": {},
     "output_type": "execute_result"
    }
   ],
   "source": [
    "layout = go.Layout( title = 'Air Traffic Volumes by Countries (Top 8)', autosize = True, margin = dict(l=100,autoexpand=True))\n",
    "fig = go.Figure(data=data, layout=layout)\n",
    "py.iplot(fig, filename='horizontal-bar')"
   ]
  },
  {
   "cell_type": "code",
   "execution_count": null,
   "metadata": {
    "collapsed": true
   },
   "outputs": [],
   "source": []
  },
  {
   "cell_type": "code",
   "execution_count": null,
   "metadata": {
    "collapsed": true
   },
   "outputs": [],
   "source": []
  }
 ],
 "metadata": {
  "kernelspec": {
   "display_name": "Python 2",
   "language": "python",
   "name": "python2"
  },
  "language_info": {
   "codemirror_mode": {
    "name": "ipython",
    "version": 2
   },
   "file_extension": ".py",
   "mimetype": "text/x-python",
   "name": "python",
   "nbconvert_exporter": "python",
   "pygments_lexer": "ipython2",
   "version": "2.7.14"
  }
 },
 "nbformat": 4,
 "nbformat_minor": 2
}
